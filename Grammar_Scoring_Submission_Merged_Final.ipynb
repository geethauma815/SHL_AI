{
 "cells": [
  {
   "cell_type": "markdown",
   "id": "57acaaa6",
   "metadata": {},
   "source": [
    "# Grammar Scoring from Audio Transcriptions\n",
    "\n",
    "This notebook demonstrates the end-to-end pipeline for automatically scoring the grammar quality of spoken responses. The main steps include:\n",
    "\n",
    "1. Transcribing audio files using OpenAI's Whisper model.\n",
    "2. Evaluating grammar quality of transcribed text using LanguageTool.\n",
    "3. Generating a grammar score for each response (on a scale of 0 to 5).\n",
    "4. Training a regression model (Random Forest) to predict grammar scores based on text features.\n",
    "5. Evaluating model performance and saving it for further use.\n",
    "\n",
    "> ⚠️ Note: Due to limited hardware (CPU-only environment), only a subset of the dataset was used for model training. The code is fully scalable and can handle the full dataset on a GPU-enabled system.\n"
   ]
  },
  {
   "cell_type": "code",
   "execution_count": 3,
   "id": "e6d84649",
   "metadata": {},
   "outputs": [],
   "source": [
    "import os\n",
    "import pandas as pd\n",
    "import whisper\n",
    "import numpy as np\n",
    "import language_tool_python\n",
    "from tqdm import tqdm\n",
    "from sklearn.ensemble import RandomForestRegressor\n",
    "from sklearn.model_selection import train_test_split\n",
    "from sklearn.metrics import mean_squared_error, r2_score\n",
    "import matplotlib.pyplot as plt\n",
    "\n",
    "# Load Whisper model (make sure you have whisper installed)\n",
    "model = whisper.load_model(\"base\")"
   ]
  },
  {
   "cell_type": "markdown",
   "id": "5f81891b",
   "metadata": {},
   "source": [
    "## Step 1: Load Audio Files\n",
    "\n",
    "We start by specifying the folder containing the training audio files. \n",
    "Only `.wav` and `.mp3` formats are considered. \n",
    "The audio files will later be transcribed using Whisper.\n"
   ]
  },
  {
   "cell_type": "code",
   "execution_count": 4,
   "id": "760ae92e",
   "metadata": {},
   "outputs": [
    {
     "data": {
      "text/plain": [
       "['audio_252.wav',\n",
       " 'audio_538.wav',\n",
       " 'audio_117.wav',\n",
       " 'audio_609.wav',\n",
       " 'audio_518.wav']"
      ]
     },
     "execution_count": 4,
     "metadata": {},
     "output_type": "execute_result"
    }
   ],
   "source": [
    "# Define the folder where audio files are stored\n",
    "audio_folder = \"audios_train/\"  # Replace with your actual folder\n",
    "audio_files = [f for f in os.listdir(audio_folder) if f.endswith(\".wav\") or f.endswith(\".mp3\")]\n",
    "\n",
    "# Show audio files\n",
    "audio_files[:5]"
   ]
  },
  {
   "cell_type": "markdown",
   "id": "42c2e80f",
   "metadata": {},
   "source": [
    "## Handling Warnings\n",
    "\n",
    "Whisper raises a warning when running on CPU, stating that FP16 is not supported and FP32 will be used instead. \n",
    "This warning is safe to ignore and does not affect the functionality or accuracy of the model. \n",
    "The following line suppresses this specific warning to keep the output clean.\n"
   ]
  },
  {
   "cell_type": "code",
   "execution_count": 1,
   "id": "bcc45208",
   "metadata": {},
   "outputs": [],
   "source": [
    "import warnings\n",
    "warnings.filterwarnings(\"ignore\", message=\"FP16 is not supported on CPU; using FP32 instead\")\n"
   ]
  },
  {
   "cell_type": "markdown",
   "id": "fdb2d3f7",
   "metadata": {},
   "source": [
    "## Step 2: Transcribe and Score Grammar\n",
    "\n",
    "Each audio file is transcribed into text using the Whisper model.  \n",
    "The transcribed text is then analyzed using LanguageTool to detect grammar issues.\n",
    "\n",
    "The grammar score is calculated as follows:\n",
    "- We count the number of grammar/spelling errors.\n",
    "- We normalize the score to a 0–5 scale based on the number of words in the sentence.\n",
    "- Higher scores indicate better grammar.\n",
    "\n",
    "The output is stored in a DataFrame with the filename, transcription, and grammar score.\n"
   ]
  },
  {
   "cell_type": "code",
   "execution_count": null,
   "id": "cee10c05",
   "metadata": {},
   "outputs": [],
   "source": [
    "# Transcribe audio files\n",
    "transcriptions = []\n",
    "\n",
    "for filename in audio_files:\n",
    "    audio_path = os.path.join(audio_folder, filename)\n",
    "    result = model.transcribe(audio_path)\n",
    "    text = result['text']\n",
    "    \n",
    "    # Dummy grammar score for now — replace this with manual labels or an evaluator\n",
    "    \n",
    "matches = tool.check(text)\n",
    "num_errors = len(matches)\n",
    "words = len(text.split()) or 1\n",
    "score = max(0, 5 - (num_errors / words * 5))  # Normalize to 0–5 scale\n",
    "  # Or random.uniform(1, 5) for simulated scores\n",
    "    \n",
    "transcriptions.append({\n",
    "        \"filename\": filename,\n",
    "        \"transcription\": text,\n",
    "        \"score\": round(score, 2)\n",
    "    })\n",
    "\n",
    "df = pd.DataFrame(transcriptions)\n",
    "df.head()\n"
   ]
  },
  {
   "cell_type": "markdown",
   "id": "070c3765",
   "metadata": {},
   "source": [
    "# 📘 Grammar Scoring Model - Extended Version"
   ]
  },
  {
   "cell_type": "markdown",
   "id": "6f50dc35",
   "metadata": {},
   "source": [
    "## 📦 Importing Libraries\n",
    "We'll import necessary libraries for data processing, modeling, evaluation, and visualization."
   ]
  },
  {
   "cell_type": "code",
   "execution_count": null,
   "id": "30a65c75",
   "metadata": {},
   "outputs": [],
   "source": [
    "import pandas as pd\n",
    "import numpy as np\n",
    "import language_tool_python\n",
    "from tqdm import tqdm\n",
    "from sklearn.ensemble import RandomForestRegressor\n",
    "from sklearn.model_selection import train_test_split\n",
    "from sklearn.metrics import mean_squared_error, r2_score\n",
    "import matplotlib.pyplot as plt"
   ]
  },
  {
   "cell_type": "markdown",
   "id": "e8ae20fb",
   "metadata": {},
   "source": [
    "## 📂 Load Transcriptions\n",
    "This function reads the transcriptions CSV into a DataFrame."
   ]
  },
  {
   "cell_type": "code",
   "execution_count": null,
   "id": "32279fde",
   "metadata": {},
   "outputs": [],
   "source": [
    "# 1. Load transcription data\n",
    "def load_transcriptions(file_path):\n",
    "    \"\"\"Load the transcriptions CSV file\"\"\"\n",
    "    return pd.read_csv(file_path)"
   ]
  },
  {
   "cell_type": "markdown",
   "id": "17777363",
   "metadata": {},
   "source": [
    "## 🧠 Text Feature Extraction\n",
    "This part analyzes grammar errors, sentence length, lexical richness, and repetitive phrases."
   ]
  },
  {
   "cell_type": "code",
   "execution_count": 12,
   "id": "fe29ad06",
   "metadata": {},
   "outputs": [],
   "source": [
    "# 2. Text Feature Extraction with Grammar Analysis\n",
    "def extract_text_features(text):\n",
    "    \"\"\"Extract linguistic features from text\"\"\"\n",
    "    tool = language_tool_python.LanguageTool('en-US')\n",
    "    matches = tool.check(text)\n",
    "    words = text.split()\n",
    "    sentences = [s for s in text.split('.') if s.strip()]\n",
    "    return {\n",
    "        'grammar_errors': len(matches),\n",
    "        'error_rate': len(matches)/len(words) if words else 0,\n",
    "        'word_count': len(words),\n",
    "        'unique_words': len(set(words)),\n",
    "        'lexical_diversity': len(set(words))/len(words) if words else 0,\n",
    "        'avg_sentence_length': np.mean([len(s.split()) for s in sentences]) if sentences else 0,\n",
    "        'repetition_score': len(words)/len(set(words)) if words else 1,\n",
    "        'repetitive_phrases': count_repetitive_phrases(text)\n",
    "    }"
   ]
  },
  {
   "cell_type": "markdown",
   "id": "46446927",
   "metadata": {},
   "source": [
    "### 🔁 Count Repetitive Phrases\n",
    "Detects how many times three identical words appear in a row."
   ]
  },
  {
   "cell_type": "code",
   "execution_count": 13,
   "id": "11509b80",
   "metadata": {},
   "outputs": [],
   "source": [
    "def count_repetitive_phrases(text, min_repeats=3):\n",
    "    \"\"\"Count repetitive phrases in text\"\"\"\n",
    "    words = text.split()\n",
    "    repeats = 0\n",
    "    for i in range(len(words)-min_repeats):\n",
    "        if words[i] == words[i+1] == words[i+2]:\n",
    "            repeats += 1\n",
    "    return repeats"
   ]
  },
  {
   "cell_type": "markdown",
   "id": "21264ee4",
   "metadata": {},
   "source": [
    "## 🎯 Simulate Grammar Scores\n",
    "Creates synthetic grammar scores based on extracted text features."
   ]
  },
  {
   "cell_type": "code",
   "execution_count": 14,
   "id": "14c97beb",
   "metadata": {},
   "outputs": [],
   "source": [
    "# 3. Simulate Scores Based on Text Features\n",
    "def simulate_scores(features):\n",
    "    \"\"\"Create synthetic scores based on text features\"\"\"\n",
    "    base_score = 4.0\n",
    "    score = (\n",
    "        base_score\n",
    "        - features['error_rate'] * 2\n",
    "        - features['repetition_score'] * 0.5\n",
    "        - features['repetitive_phrases'] * 0.3\n",
    "    )\n",
    "    return max(1.0, min(5.0, score))"
   ]
  },
  {
   "cell_type": "markdown",
   "id": "485b8d51",
   "metadata": {},
   "source": [
    "## 🧪 Process Transcriptions\n",
    "Loops through all entries and extracts features with progress tracking."
   ]
  },
  {
   "cell_type": "code",
   "execution_count": 15,
   "id": "a3eaa898",
   "metadata": {},
   "outputs": [],
   "source": [
    "# 4. Main Processing Function\n",
    "def process_transcriptions(df):\n",
    "    \"\"\"Process all transcriptions with progress tracking\"\"\"\n",
    "    processed = []\n",
    "    for _, row in tqdm(df.iterrows(), total=len(df)):\n",
    "        features = extract_text_features(row['transcription'])\n",
    "        features['file'] = row['file']\n",
    "        features['transcription'] = row['transcription']\n",
    "        features['score'] = simulate_scores(features)\n",
    "        processed.append(features)\n",
    "    return pd.DataFrame(processed)"
   ]
  },
  {
   "cell_type": "markdown",
   "id": "644bf031",
   "metadata": {},
   "source": [
    "## 🧠 Train & Evaluate Model\n",
    "Train a RandomForestRegressor and evaluate it using MSE and R²."
   ]
  },
  {
   "cell_type": "code",
   "execution_count": 16,
   "id": "d42ea009",
   "metadata": {},
   "outputs": [],
   "source": [
    "# 5. Modeling and Evaluation\n",
    "def train_and_evaluate(data):\n",
    "    X = data.drop(['file', 'transcription', 'score'], axis=1)\n",
    "    y = data['score']\n",
    "    X_train, X_test, y_train, y_test = train_test_split(X, y, test_size=0.2, random_state=42)\n",
    "    model = RandomForestRegressor(n_estimators=100, max_depth=5, random_state=42, n_jobs=-1)\n",
    "    model.fit(X_train, y_train)\n",
    "    y_pred = model.predict(X_test)\n",
    "    print(\"\\nEvaluation Metrics (on synthetic scores):\")\n",
    "    print(f\"MSE: {mean_squared_error(y_test, y_pred):.4f}\")\n",
    "    print(f\"R²: {r2_score(y_test, y_pred):.4f}\")\n",
    "    plot_feature_importance(model, X.columns)\n",
    "    return model"
   ]
  },
  {
   "cell_type": "markdown",
   "id": "5cdfb0f8",
   "metadata": {},
   "source": [
    "## 📊 Feature Importance\n",
    "Displays top contributing features."
   ]
  },
  {
   "cell_type": "code",
   "execution_count": 17,
   "id": "ac177558",
   "metadata": {},
   "outputs": [],
   "source": [
    "def plot_feature_importance(model, feature_names):\n",
    "    importances = model.feature_importances_\n",
    "    indices = np.argsort(importances)[-10:]\n",
    "    plt.figure(figsize=(10, 6))\n",
    "    plt.title(\"Top 10 Important Features\")\n",
    "    plt.barh(range(len(indices)), importances[indices], align='center')\n",
    "    plt.yticks(range(len(indices)), [feature_names[i] for i in indices])\n",
    "    plt.xlabel(\"Relative Importance\")\n",
    "    plt.tight_layout()\n",
    "    plt.show()"
   ]
  },
  {
   "cell_type": "markdown",
   "id": "ce68b114",
   "metadata": {},
   "source": [
    "## 🚀 Running the Pipeline\n",
    "Load data, process it, train model, and test a prediction."
   ]
  },
  {
   "cell_type": "code",
   "execution_count": 18,
   "id": "6e33e859",
   "metadata": {},
   "outputs": [
    {
     "name": "stdout",
     "output_type": "stream",
     "text": [
      "Loading and processing transcriptions...\n"
     ]
    },
    {
     "name": "stderr",
     "output_type": "stream",
     "text": [
      "100%|█████████████████████████████████████████████| 5/5 [01:40<00:00, 20.07s/it]\n"
     ]
    },
    {
     "name": "stdout",
     "output_type": "stream",
     "text": [
      "\n",
      "Processed 5 samples\n",
      "Sample features:\n",
      "file                audio_252.wav\n",
      "score                         1.0\n",
      "grammar_errors                 31\n",
      "repetition_score         9.736842\n",
      "Name: 0, dtype: object\n",
      "\n",
      "Evaluation Metrics (on synthetic scores):\n",
      "MSE: 1.8113\n",
      "R²: nan\n"
     ]
    },
    {
     "name": "stderr",
     "output_type": "stream",
     "text": [
      "/home/rgukt-basar/myenv/lib/python3.12/site-packages/sklearn/metrics/_regression.py:1266: UndefinedMetricWarning: R^2 score is not well-defined with less than two samples.\n",
      "  warnings.warn(msg, UndefinedMetricWarning)\n"
     ]
    },
    {
     "data": {
      "image/png": "[encoded data removed]",
      "text/plain": [
       "<Figure size 1000x600 with 1 Axes>"
      ]
     },
     "metadata": {},
     "output_type": "display_data"
    },
    {
     "name": "stdout",
     "output_type": "stream",
     "text": [
      "\n",
      "Sample Prediction:\n",
      "File: audio_252.wav\n",
      "Transcription: I'm not going to be a good boy. I'm not going to be a good boy. I'm not going to be a good boy. I'm ...\n",
      "Grammar Errors: 31\n",
      "Repetition Score: 9.74\n",
      "Predicted Score: 1.18\n"
     ]
    },
    {
     "name": "stderr",
     "output_type": "stream",
     "text": [
      "/home/rgukt-basar/myenv/lib/python3.12/site-packages/sklearn/utils/validation.py:2739: UserWarning: X does not have valid feature names, but RandomForestRegressor was fitted with feature names\n",
      "  warnings.warn(\n"
     ]
    }
   ],
   "source": [
    "TRANSCRIPTIONS_CSV = \"transcriptions.csv\"\n",
    "print(\"Loading and processing transcriptions...\")\n",
    "df = load_transcriptions(TRANSCRIPTIONS_CSV)\n",
    "processed_data = process_transcriptions(df)\n",
    "print(f\"\\nProcessed {len(processed_data)} samples\")\n",
    "print(\"Sample features:\")\n",
    "print(processed_data.iloc[0][['file', 'score', 'grammar_errors', 'repetition_score']])\n",
    "model = train_and_evaluate(processed_data)\n",
    "sample = processed_data.iloc[0]\n",
    "sample_features = sample.drop(['file', 'transcription', 'score'])\n",
    "prediction = model.predict([sample_features])[0]\n",
    "print(\"\\nSample Prediction:\")\n",
    "print(f\"File: {sample['file']}\")\n",
    "print(f\"Transcription: {sample['transcription'][:100]}...\")\n",
    "print(f\"Grammar Errors: {sample['grammar_errors']}\")\n",
    "print(f\"Repetition Score: {sample['repetition_score']:.2f}\")\n",
    "print(f\"Predicted Score: {prediction:.2f}\")"
   ]
  },
  {
   "cell_type": "code",
   "execution_count": null,
   "id": "8e277c94",
   "metadata": {},
   "outputs": [],
   "source": []
  }
 ],
 "metadata": {
  "kernelspec": {
   "display_name": "Python (myenv)",
   "language": "python",
   "name": "myenv"
  },
  "language_info": {
   "codemirror_mode": {
    "name": "ipython",
    "version": 3
   },
   "file_extension": ".py",
   "mimetype": "text/x-python",
   "name": "python",
   "nbconvert_exporter": "python",
   "pygments_lexer": "ipython3",
   "version": "3.12.3"
  }
 },
 "nbformat": 4,
 "nbformat_minor": 5
}
